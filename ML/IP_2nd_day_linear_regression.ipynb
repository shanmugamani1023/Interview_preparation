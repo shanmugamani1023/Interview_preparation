{
 "cells": [
  {
   "cell_type": "markdown",
   "id": "c819c0bb-256b-4b7e-ac06-768a729db459",
   "metadata": {},
   "source": [
    "# What is linear regreesion"
   ]
  },
  {
   "cell_type": "markdown",
   "id": "4b4d719e-5473-486d-9705-e6a93104f989",
   "metadata": {},
   "source": [
    "# TYpes"
   ]
  },
  {
   "cell_type": "markdown",
   "id": "612f7939-b95d-463b-8871-7d505c38a415",
   "metadata": {},
   "source": [
    "# Mathmetical explanation"
   ]
  },
  {
   "cell_type": "markdown",
   "id": "44c1917b-fce7-4238-82a2-73405732e1ba",
   "metadata": {},
   "source": [
    "# Progrmatical explanation"
   ]
  },
  {
   "cell_type": "markdown",
   "id": "cc83dc6c-0289-426b-ac7c-37322a441da3",
   "metadata": {},
   "source": [
    "# Real time example"
   ]
  },
  {
   "cell_type": "markdown",
   "id": "1f6435ff-dbdd-4beb-bed1-a77176c69707",
   "metadata": {},
   "source": [
    "# Basic Assumptions"
   ]
  },
  {
   "cell_type": "markdown",
   "id": "1c1b06db-d26c-4cef-bd9a-7f12b63c23cb",
   "metadata": {},
   "source": [
    "# Advantages"
   ]
  },
  {
   "cell_type": "markdown",
   "id": "0aaf0776-aae5-462f-907a-03fd596dc401",
   "metadata": {},
   "source": [
    "# Disadvantages"
   ]
  },
  {
   "cell_type": "markdown",
   "id": "cf0e6a49-a5ab-4a12-8088-94b2d8df0654",
   "metadata": {},
   "source": [
    "# Is sensitive to outliers and how to handle? and coding part ?"
   ]
  },
  {
   "cell_type": "markdown",
   "id": "031fb752-6835-4964-8673-fb7ea70813db",
   "metadata": {},
   "source": [
    "# what will happen when it contains missing values and how to handle? coding part?\n"
   ]
  },
  {
   "cell_type": "markdown",
   "id": "15eef718-91b3-4b1d-804d-2a13ab9d028c",
   "metadata": {
    "tags": []
   },
   "source": [
    "# Feature scaling required? and what is feature scaling and types and implematation of feature scaling "
   ]
  }
 ],
 "metadata": {
  "kernelspec": {
   "display_name": "Python 3 (ipykernel)",
   "language": "python",
   "name": "python3"
  },
  "language_info": {
   "codemirror_mode": {
    "name": "ipython",
    "version": 3
   },
   "file_extension": ".py",
   "mimetype": "text/x-python",
   "name": "python",
   "nbconvert_exporter": "python",
   "pygments_lexer": "ipython3",
   "version": "3.11.4"
  }
 },
 "nbformat": 4,
 "nbformat_minor": 5
}
