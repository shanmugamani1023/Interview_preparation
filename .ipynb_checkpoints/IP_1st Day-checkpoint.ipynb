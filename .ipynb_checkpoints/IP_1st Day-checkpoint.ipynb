{
 "cells": [
  {
   "cell_type": "markdown",
   "id": "afd751b7",
   "metadata": {},
   "source": [
    "# Today i am going to learn about Naive Bayes Classifiers"
   ]
  },
  {
   "cell_type": "markdown",
   "id": "76de9031",
   "metadata": {},
   "source": [
    "references: https://youtu.be/mlumJPFvooQ?si=ibvZ3TOr-wMWsTrX -IP1 introduction\n",
    "\n",
    "https://www.youtube.com/watch?v=jS1CKhALUBQ -Naive bayes intro\n",
    "\n",
    "https://www.youtube.com/watch?v=jS1CKhALUBQ -Real time example on text dataset\n",
    "\n",
    "https://www.youtube.com/watch?v=O2L2Uv9pdDA -Real time example video\n"
   ]
  },
  {
   "cell_type": "markdown",
   "id": "377af31b",
   "metadata": {},
   "source": [
    "# 1.What is naive bayes theorm"
   ]
  },
  {
   "cell_type": "markdown",
   "id": "d19fcc2a",
   "metadata": {},
   "source": [
    "### P(A/B)=(p(B/A)*p(A)) / p(B)\n",
    "\n",
    "### B-independent features(x1,x2,x3,....xn)\n",
    "\n",
    "### A-dependent features(y)\n"
   ]
  },
  {
   "cell_type": "markdown",
   "id": "5abb918d",
   "metadata": {},
   "source": [
    "# 2.Mathmetical intution"
   ]
  },
  {
   "cell_type": "markdown",
   "id": "110d235d",
   "metadata": {},
   "source": [
    "### Y - take different type of values.ex-true or false.\n",
    "###  we will find the probability of true and false with respect to given set of independent features.\n",
    "###  we will choose the result value based on the higher probabilty value"
   ]
  },
  {
   "cell_type": "markdown",
   "id": "a668bc25",
   "metadata": {},
   "source": [
    "# 3.Real time example  (binary classification)"
   ]
  },
  {
   "cell_type": "markdown",
   "id": "68641f90",
   "metadata": {},
   "source": [
    "### refer :4.https://www.geeksforgeeks.org/naive-bayes-classifiers/"
   ]
  },
  {
   "cell_type": "raw",
   "id": "a99a0201",
   "metadata": {},
   "source": [
    "# Outlook\t  Temperature\tPlay Golf  yes_for_sunny   No_for_sunny   yes_for_rainy    no_for_rainy  yes_frcast  no_cast\n",
    "0\tRainy\t  Hot\t\t\tNo           3                  2              2               3            4\n",
    "1\tRainy\t  Hot\t\t\tNo  \n",
    "2\tOvercast  Hot\t\t\tYes\n",
    "3\tSunny\t  Mild\t\t    Yes\n",
    "4\tSunny\t  Cool\t\t    Yes\n",
    "5\tSunny\t  Cool\t\t    No\n",
    "6\tOvercast  Cool\t\t    Yes\n",
    "7\tRainy\t  Mild\t        No\n",
    "8\tRainy\t  Cool\t\t    Yes\n",
    "9\tSunny\t  Mild\t\t    Yes\n",
    "10\tRainy\t  Mild\t        Yes\n",
    "11\tOvercast  Mild\t        Yes\n",
    "12\tOvercast  Hot\t        Yes\n",
    "13\tSunny\t  Mild\t\t    No"
   ]
  },
  {
   "cell_type": "raw",
   "id": "aa6b2b67",
   "metadata": {},
   "source": [
    "steps:\n",
    "1.frequency table (we need to find how many class is available for each class ) \n",
    "2.Conditional probabilty table \n",
    "3.we l find probabilty of each class with respect to given class"
   ]
  },
  {
   "cell_type": "raw",
   "id": "a006fe97",
   "metadata": {},
   "source": [
    "outlook   yes   NO     p(y)              p(n)   \n",
    "\n",
    "Rainy     3      2    3/9                 3/5\n",
    "\n",
    "Overcast  4      0     4/9                 0/5\n",
    "\n",
    "sunny     2     3     2/9 =sunny/yes)     3/5=p(sunny/no)\n",
    "\n",
    "total=3  ,ty=9 ,tn=5"
   ]
  },
  {
   "cell_type": "raw",
   "id": "e82a072d",
   "metadata": {},
   "source": [
    "Temperature    yes      no      p(y)                 p(n)\n",
    "\n",
    "HOt             2       2       2/9(p(hot/yes)        2/5 =p(hot/no)       \n",
    " \n",
    "mild            4        2       4/9                   2/5\n",
    "  \n",
    "cool            3        1       3/9                    1/9   \n",
    "             \n",
    "             ty=9,      tn=5"
   ]
  },
  {
   "cell_type": "raw",
   "id": "338d6d0a",
   "metadata": {},
   "source": [
    "play            prob \n",
    "\n",
    "yes    avg    9/14=(p(yes))\n",
    "\n",
    "\n",
    "NO     avg=5      5/14\n"
   ]
  },
  {
   "cell_type": "code",
   "execution_count": null,
   "id": "edcb85a3",
   "metadata": {},
   "outputs": [],
   "source": [
    "# so,we can find the probabilty table ,"
   ]
  },
  {
   "cell_type": "raw",
   "id": "6738b01c",
   "metadata": {},
   "source": [
    "<!-- ex:if we give new input today(sunny,hot) -->\n",
    "<!-- then  -->\n",
    "<!-- how the calculation will work  -->\n",
    "\n",
    "we need to take both dependent category ,\n",
    "here yes and no,\n",
    "so, we need to find how much probabilty of yes based on the given indepndent features and probabilty of no based on independent features.\n",
    "\n",
    " p(yes/today) =p(sunny/yes)*p(hot/yes) *p(yes) / p(today)\n",
    " \n",
    " today=independent features\n",
    " Since, P(today) is common in both probabilities, we can ignore P(today) and find proportional probabilities as:\n",
    " \n",
    " so,here \n",
    " \n",
    " p(yes/today)=(2/9*2/9*9/14)=0.03174\n",
    " \n",
    " and \n",
    " \n",
    " p(no/today) =p(sunny/no)*p(hot/no)*p(no)\n",
    "             =3/5*2/5*5/14\n",
    "             =0.0857\n",
    "\n",
    "we need to normalize this values we can take any one ,\n",
    "\n",
    "p(yes/today)=0.031 /(0.031+0.0857)=0.2656383890317052\n",
    "\n",
    "p(no/today)=0.0857 /(0.031+0.0857)=0.7343616109682948\n",
    "\n",
    "so ,prob 0.73 for no\n",
    "    prob 0.26 for yes\n",
    "    \n",
    "    so ,0.73 > 0.26 ,hence we choose no as a result\n"
   ]
  },
  {
   "cell_type": "code",
   "execution_count": 11,
   "id": "7d9d3fdb",
   "metadata": {},
   "outputs": [
    {
     "data": {
      "text/plain": [
       "0.2656383890317052"
      ]
     },
     "execution_count": 11,
     "metadata": {},
     "output_type": "execute_result"
    }
   ],
   "source": [
    "p_yes=(2/9*2/9*9/14)\n",
    "\n",
    "# normalization\n",
    "p_yes=0.031 /(0.031+0.0857)\n",
    "p_yes"
   ]
  },
  {
   "cell_type": "code",
   "execution_count": 13,
   "id": "78312cfb",
   "metadata": {},
   "outputs": [
    {
     "data": {
      "text/plain": [
       "0.7343616109682948"
      ]
     },
     "execution_count": 13,
     "metadata": {},
     "output_type": "execute_result"
    }
   ],
   "source": [
    "p_no=3/5*2/5*5/14\n",
    "p_no=0.0857 /(0.031+0.0857)\n",
    "p_no"
   ]
  },
  {
   "cell_type": "markdown",
   "id": "7b5c5a2b",
   "metadata": {},
   "source": [
    "# Refer this link for multiclass classification-https://youtu.be/YeD-Ntq96Lo?si=Kw-YVkY3utWLD9tZ (Multiclass classification)"
   ]
  },
  {
   "cell_type": "code",
   "execution_count": null,
   "id": "cd7e49f3",
   "metadata": {},
   "outputs": [],
   "source": []
  },
  {
   "cell_type": "markdown",
   "id": "a1602173",
   "metadata": {},
   "source": [
    "# 4.Real time implementation(code implementation)"
   ]
  },
  {
   "cell_type": "markdown",
   "id": "d6dd778d",
   "metadata": {},
   "source": [
    "# Refer this link -https://www.youtube.com/watch?v=nHIUYwN-5rM"
   ]
  },
  {
   "cell_type": "code",
   "execution_count": 14,
   "id": "93fbc14a",
   "metadata": {},
   "outputs": [],
   "source": [
    "#Spam mail detector"
   ]
  },
  {
   "cell_type": "code",
   "execution_count": null,
   "id": "3ca8ffee",
   "metadata": {},
   "outputs": [],
   "source": []
  },
  {
   "cell_type": "code",
   "execution_count": null,
   "id": "c7a6467c",
   "metadata": {},
   "outputs": [],
   "source": []
  },
  {
   "cell_type": "code",
   "execution_count": null,
   "id": "2673d63c",
   "metadata": {},
   "outputs": [],
   "source": []
  },
  {
   "cell_type": "code",
   "execution_count": null,
   "id": "5870a901",
   "metadata": {},
   "outputs": [],
   "source": []
  },
  {
   "cell_type": "code",
   "execution_count": null,
   "id": "53afd0df",
   "metadata": {},
   "outputs": [],
   "source": []
  },
  {
   "cell_type": "code",
   "execution_count": null,
   "id": "c5d4e37e",
   "metadata": {},
   "outputs": [],
   "source": []
  },
  {
   "cell_type": "code",
   "execution_count": null,
   "id": "a746cc00",
   "metadata": {},
   "outputs": [],
   "source": []
  },
  {
   "cell_type": "markdown",
   "id": "e6c8c68c",
   "metadata": {},
   "source": [
    "# 5.Advantages"
   ]
  },
  {
   "cell_type": "markdown",
   "id": "ffa3c80e",
   "metadata": {},
   "source": [
    "# 6.Disadvantages"
   ]
  },
  {
   "cell_type": "markdown",
   "id": "f41aed3a",
   "metadata": {},
   "source": [
    "# 7.Feature scaling required or not"
   ]
  },
  {
   "cell_type": "markdown",
   "id": "904f1f2e",
   "metadata": {},
   "source": [
    "# 8.Impact of missing values"
   ]
  },
  {
   "cell_type": "markdown",
   "id": "27d8e3aa",
   "metadata": {},
   "source": []
  }
 ],
 "metadata": {
  "kernelspec": {
   "display_name": "Python 3 (ipykernel)",
   "language": "python",
   "name": "python3"
  },
  "language_info": {
   "codemirror_mode": {
    "name": "ipython",
    "version": 3
   },
   "file_extension": ".py",
   "mimetype": "text/x-python",
   "name": "python",
   "nbconvert_exporter": "python",
   "pygments_lexer": "ipython3",
   "version": "3.11.4"
  }
 },
 "nbformat": 4,
 "nbformat_minor": 5
}
